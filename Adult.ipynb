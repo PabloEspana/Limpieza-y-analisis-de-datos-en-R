{
 "cells": [
  {
   "cell_type": "markdown",
   "metadata": {},
   "source": [
    "**Proceso de limpieza del juego de datos**"
   ]
  },
  {
   "cell_type": "code",
   "execution_count": 2,
   "metadata": {},
   "outputs": [],
   "source": [
    "# Cargamos los paquetes R que vamos a usar\n",
    "library(ggplot2)\n",
    "library(dplyr)"
   ]
  },
  {
   "cell_type": "code",
   "execution_count": 3,
   "metadata": {},
   "outputs": [],
   "source": [
    "# Cargamos el juego de datos\n",
    "datosAdult <- read.csv('adult.data', stringsAsFactors = FALSE, header = FALSE)"
   ]
  },
  {
   "cell_type": "code",
   "execution_count": 4,
   "metadata": {},
   "outputs": [],
   "source": [
    "# Nombres de los atributos\n",
    "names(datosAdult) <- c(\"age\",\"workclass\",\"fnlwgt\",\"education\",\n",
    "     \"educationNum\",\"maritalStatus\",\"occupation\", \"relationship\",\"race\",\"sex\",\n",
    "    \"capitalGain\",\"capitalLoss\",\"hourPerWeek\",\"nativeCountry\",\"income\")"
   ]
  },
  {
   "cell_type": "code",
   "execution_count": 5,
   "metadata": {},
   "outputs": [
    {
     "name": "stdout",
     "output_type": "stream",
     "text": [
      "'data.frame':\t19163 obs. of  15 variables:\n",
      " $ age          : int  39 50 38 53 28 37 49 52 31 42 ...\n",
      " $ workclass    : chr  \" State-gov\" \" Self-emp-not-inc\" \" Private\" \" Private\" ...\n",
      " $ fnlwgt       : int  77516 83311 215646 234721 338409 284582 160187 209642 45781 159449 ...\n",
      " $ education    : chr  \" Bachelors\" \" Bachelors\" \" HS-grad\" \" 11th\" ...\n",
      " $ educationNum : int  13 13 9 7 13 14 5 9 14 13 ...\n",
      " $ maritalStatus: chr  \" Never-married\" \" Married-civ-spouse\" \" Divorced\" \" Married-civ-spouse\" ...\n",
      " $ occupation   : chr  \" Adm-clerical\" \" Exec-managerial\" \" Handlers-cleaners\" \" Handlers-cleaners\" ...\n",
      " $ relationship : chr  \" Not-in-family\" \" Husband\" \" Not-in-family\" \" Husband\" ...\n",
      " $ race         : chr  \" White\" \" White\" \" White\" \" Black\" ...\n",
      " $ sex          : chr  \" Male\" \" Male\" \" Male\" \" Male\" ...\n",
      " $ capitalGain  : int  2174 0 0 0 0 0 0 0 14084 5178 ...\n",
      " $ capitalLoss  : int  0 0 0 0 0 0 0 0 0 0 ...\n",
      " $ hourPerWeek  : int  40 13 40 40 40 40 16 45 50 40 ...\n",
      " $ nativeCountry: chr  \" United-States\" \" United-States\" \" United-States\" \" United-States\" ...\n",
      " $ income       : chr  \" <=50K\" \" <=50K\" \" <=50K\" \" <=50K\" ...\n"
     ]
    }
   ],
   "source": [
    "# Verificamos la estructura del juego de datos\n",
    "str(datosAdult)"
   ]
  },
  {
   "cell_type": "code",
   "execution_count": 6,
   "metadata": {},
   "outputs": [
    {
     "data": {
      "text/html": [
       "<dl class=dl-horizontal>\n",
       "\t<dt>age</dt>\n",
       "\t\t<dd>0</dd>\n",
       "\t<dt>workclass</dt>\n",
       "\t\t<dd>0</dd>\n",
       "\t<dt>fnlwgt</dt>\n",
       "\t\t<dd>0</dd>\n",
       "\t<dt>education</dt>\n",
       "\t\t<dd>0</dd>\n",
       "\t<dt>educationNum</dt>\n",
       "\t\t<dd>0</dd>\n",
       "\t<dt>maritalStatus</dt>\n",
       "\t\t<dd>0</dd>\n",
       "\t<dt>occupation</dt>\n",
       "\t\t<dd>0</dd>\n",
       "\t<dt>relationship</dt>\n",
       "\t\t<dd>0</dd>\n",
       "\t<dt>race</dt>\n",
       "\t\t<dd>0</dd>\n",
       "\t<dt>sex</dt>\n",
       "\t\t<dd>0</dd>\n",
       "\t<dt>capitalGain</dt>\n",
       "\t\t<dd>1</dd>\n",
       "\t<dt>capitalLoss</dt>\n",
       "\t\t<dd>1</dd>\n",
       "\t<dt>hourPerWeek</dt>\n",
       "\t\t<dd>1</dd>\n",
       "\t<dt>nativeCountry</dt>\n",
       "\t\t<dd>0</dd>\n",
       "\t<dt>income</dt>\n",
       "\t\t<dd>0</dd>\n",
       "</dl>\n"
      ],
      "text/latex": [
       "\\begin{description*}\n",
       "\\item[age] 0\n",
       "\\item[workclass] 0\n",
       "\\item[fnlwgt] 0\n",
       "\\item[education] 0\n",
       "\\item[educationNum] 0\n",
       "\\item[maritalStatus] 0\n",
       "\\item[occupation] 0\n",
       "\\item[relationship] 0\n",
       "\\item[race] 0\n",
       "\\item[sex] 0\n",
       "\\item[capitalGain] 1\n",
       "\\item[capitalLoss] 1\n",
       "\\item[hourPerWeek] 1\n",
       "\\item[nativeCountry] 0\n",
       "\\item[income] 0\n",
       "\\end{description*}\n"
      ],
      "text/markdown": [
       "age\n",
       ":   0workclass\n",
       ":   0fnlwgt\n",
       ":   0education\n",
       ":   0educationNum\n",
       ":   0maritalStatus\n",
       ":   0occupation\n",
       ":   0relationship\n",
       ":   0race\n",
       ":   0sex\n",
       ":   0capitalGain\n",
       ":   1capitalLoss\n",
       ":   1hourPerWeek\n",
       ":   1nativeCountry\n",
       ":   0income\n",
       ":   0\n",
       "\n"
      ],
      "text/plain": [
       "          age     workclass        fnlwgt     education  educationNum \n",
       "            0             0             0             0             0 \n",
       "maritalStatus    occupation  relationship          race           sex \n",
       "            0             0             0             0             0 \n",
       "  capitalGain   capitalLoss   hourPerWeek nativeCountry        income \n",
       "            1             1             1             0             0 "
      ]
     },
     "metadata": {},
     "output_type": "display_data"
    }
   ],
   "source": [
    "# Estadísticas de valores vacíos\n",
    "colSums(is.na(datosAdult))"
   ]
  },
  {
   "cell_type": "code",
   "execution_count": 7,
   "metadata": {},
   "outputs": [
    {
     "data": {
      "text/html": [
       "<dl class=dl-horizontal>\n",
       "\t<dt>age</dt>\n",
       "\t\t<dd>0</dd>\n",
       "\t<dt>workclass</dt>\n",
       "\t\t<dd>0</dd>\n",
       "\t<dt>fnlwgt</dt>\n",
       "\t\t<dd>0</dd>\n",
       "\t<dt>education</dt>\n",
       "\t\t<dd>0</dd>\n",
       "\t<dt>educationNum</dt>\n",
       "\t\t<dd>0</dd>\n",
       "\t<dt>maritalStatus</dt>\n",
       "\t\t<dd>0</dd>\n",
       "\t<dt>occupation</dt>\n",
       "\t\t<dd>1</dd>\n",
       "\t<dt>relationship</dt>\n",
       "\t\t<dd>1</dd>\n",
       "\t<dt>race</dt>\n",
       "\t\t<dd>1</dd>\n",
       "\t<dt>sex</dt>\n",
       "\t\t<dd>1</dd>\n",
       "\t<dt>capitalGain</dt>\n",
       "\t\t<dd>&lt;NA&gt;</dd>\n",
       "\t<dt>capitalLoss</dt>\n",
       "\t\t<dd>&lt;NA&gt;</dd>\n",
       "\t<dt>hourPerWeek</dt>\n",
       "\t\t<dd>&lt;NA&gt;</dd>\n",
       "\t<dt>nativeCountry</dt>\n",
       "\t\t<dd>1</dd>\n",
       "\t<dt>income</dt>\n",
       "\t\t<dd>1</dd>\n",
       "</dl>\n"
      ],
      "text/latex": [
       "\\begin{description*}\n",
       "\\item[age] 0\n",
       "\\item[workclass] 0\n",
       "\\item[fnlwgt] 0\n",
       "\\item[education] 0\n",
       "\\item[educationNum] 0\n",
       "\\item[maritalStatus] 0\n",
       "\\item[occupation] 1\n",
       "\\item[relationship] 1\n",
       "\\item[race] 1\n",
       "\\item[sex] 1\n",
       "\\item[capitalGain] <NA>\n",
       "\\item[capitalLoss] <NA>\n",
       "\\item[hourPerWeek] <NA>\n",
       "\\item[nativeCountry] 1\n",
       "\\item[income] 1\n",
       "\\end{description*}\n"
      ],
      "text/markdown": [
       "age\n",
       ":   0workclass\n",
       ":   0fnlwgt\n",
       ":   0education\n",
       ":   0educationNum\n",
       ":   0maritalStatus\n",
       ":   0occupation\n",
       ":   1relationship\n",
       ":   1race\n",
       ":   1sex\n",
       ":   1capitalGain\n",
       ":   &lt;NA&gt;capitalLoss\n",
       ":   &lt;NA&gt;hourPerWeek\n",
       ":   &lt;NA&gt;nativeCountry\n",
       ":   1income\n",
       ":   1\n",
       "\n"
      ],
      "text/plain": [
       "          age     workclass        fnlwgt     education  educationNum \n",
       "            0             0             0             0             0 \n",
       "maritalStatus    occupation  relationship          race           sex \n",
       "            0             1             1             1             1 \n",
       "  capitalGain   capitalLoss   hourPerWeek nativeCountry        income \n",
       "           NA            NA            NA             1             1 "
      ]
     },
     "metadata": {},
     "output_type": "display_data"
    }
   ],
   "source": [
    "colSums(datosAdult==\"\")"
   ]
  },
  {
   "cell_type": "code",
   "execution_count": 8,
   "metadata": {},
   "outputs": [],
   "source": [
    "# Tomamos valor \"United-States\" para los valores vacíos de la variable \"nativeCountry\"\n",
    "datosAdult$'nativeCountry'[datosAdult$'nativeCountry'==\"\"]=\" United-States\"\n",
    "\n",
    "# Tomamos la media para valores vacíos de la variable \"hour-per-week\"\n",
    "datosAdult$'hourPerWeek'[is.na(datosAdult$'hourPerWeek')] <- mean(datosAdult$'hourPerWeek', na.rm=T)\n",
    "\n",
    "# Tomamos valor \"Female\" para valor vacío de la variable \"sex\"\n",
    "datosAdult$sex[datosAdult$sex==\"\"]=\" Female\"\n",
    "\n",
    "# Tomamos valor \">50K\" para valor vacío de la variable \"income\"\n",
    "datosAdult$income[datosAdult$income==\"\"]=\" >50K\""
   ]
  },
  {
   "cell_type": "code",
   "execution_count": 9,
   "metadata": {},
   "outputs": [
    {
     "data": {
      "text/html": [
       "<dl class=dl-horizontal>\n",
       "\t<dt>age</dt>\n",
       "\t\t<dd>71</dd>\n",
       "\t<dt>workclass</dt>\n",
       "\t\t<dd>9</dd>\n",
       "\t<dt>fnlwgt</dt>\n",
       "\t\t<dd>14520</dd>\n",
       "\t<dt>education</dt>\n",
       "\t\t<dd>16</dd>\n",
       "\t<dt>educationNum</dt>\n",
       "\t\t<dd>16</dd>\n",
       "\t<dt>maritalStatus</dt>\n",
       "\t\t<dd>8</dd>\n",
       "\t<dt>occupation</dt>\n",
       "\t\t<dd>16</dd>\n",
       "\t<dt>relationship</dt>\n",
       "\t\t<dd>7</dd>\n",
       "\t<dt>race</dt>\n",
       "\t\t<dd>6</dd>\n",
       "\t<dt>sex</dt>\n",
       "\t\t<dd>2</dd>\n",
       "\t<dt>capitalGain</dt>\n",
       "\t\t<dd>117</dd>\n",
       "\t<dt>capitalLoss</dt>\n",
       "\t\t<dd>84</dd>\n",
       "\t<dt>hourPerWeek</dt>\n",
       "\t\t<dd>92</dd>\n",
       "\t<dt>nativeCountry</dt>\n",
       "\t\t<dd>41</dd>\n",
       "\t<dt>income</dt>\n",
       "\t\t<dd>2</dd>\n",
       "</dl>\n"
      ],
      "text/latex": [
       "\\begin{description*}\n",
       "\\item[age] 71\n",
       "\\item[workclass] 9\n",
       "\\item[fnlwgt] 14520\n",
       "\\item[education] 16\n",
       "\\item[educationNum] 16\n",
       "\\item[maritalStatus] 8\n",
       "\\item[occupation] 16\n",
       "\\item[relationship] 7\n",
       "\\item[race] 6\n",
       "\\item[sex] 2\n",
       "\\item[capitalGain] 117\n",
       "\\item[capitalLoss] 84\n",
       "\\item[hourPerWeek] 92\n",
       "\\item[nativeCountry] 41\n",
       "\\item[income] 2\n",
       "\\end{description*}\n"
      ],
      "text/markdown": [
       "age\n",
       ":   71workclass\n",
       ":   9fnlwgt\n",
       ":   14520education\n",
       ":   16educationNum\n",
       ":   16maritalStatus\n",
       ":   8occupation\n",
       ":   16relationship\n",
       ":   7race\n",
       ":   6sex\n",
       ":   2capitalGain\n",
       ":   117capitalLoss\n",
       ":   84hourPerWeek\n",
       ":   92nativeCountry\n",
       ":   41income\n",
       ":   2\n",
       "\n"
      ],
      "text/plain": [
       "          age     workclass        fnlwgt     education  educationNum \n",
       "           71             9         14520            16            16 \n",
       "maritalStatus    occupation  relationship          race           sex \n",
       "            8            16             7             6             2 \n",
       "  capitalGain   capitalLoss   hourPerWeek nativeCountry        income \n",
       "          117            84            92            41             2 "
      ]
     },
     "metadata": {},
     "output_type": "display_data"
    }
   ],
   "source": [
    "# Discretizamos cuando tiene sentido y en función de cada variable para ello comprobamos\n",
    "# para qué variables tendría sentido un proceso de discretización\n",
    "\n",
    "apply(datosAdult, 2, function(x) length(unique(x)))"
   ]
  },
  {
   "cell_type": "code",
   "execution_count": 10,
   "metadata": {},
   "outputs": [],
   "source": [
    "# Discretizamos las variables con pocas clases\n",
    "cols<-c(\"race\", \"sex\", \"income\")\n",
    "for (i in cols){\n",
    "  datosAdult[,i] <- as.factor(datosAdult[,i])\n",
    "}"
   ]
  },
  {
   "cell_type": "code",
   "execution_count": 11,
   "metadata": {},
   "outputs": [
    {
     "name": "stdout",
     "output_type": "stream",
     "text": [
      "'data.frame':\t19163 obs. of  15 variables:\n",
      " $ age          : int  39 50 38 53 28 37 49 52 31 42 ...\n",
      " $ workclass    : chr  \" State-gov\" \" Self-emp-not-inc\" \" Private\" \" Private\" ...\n",
      " $ fnlwgt       : int  77516 83311 215646 234721 338409 284582 160187 209642 45781 159449 ...\n",
      " $ education    : chr  \" Bachelors\" \" Bachelors\" \" HS-grad\" \" 11th\" ...\n",
      " $ educationNum : int  13 13 9 7 13 14 5 9 14 13 ...\n",
      " $ maritalStatus: chr  \" Never-married\" \" Married-civ-spouse\" \" Divorced\" \" Married-civ-spouse\" ...\n",
      " $ occupation   : chr  \" Adm-clerical\" \" Exec-managerial\" \" Handlers-cleaners\" \" Handlers-cleaners\" ...\n",
      " $ relationship : chr  \" Not-in-family\" \" Husband\" \" Not-in-family\" \" Husband\" ...\n",
      " $ race         : Factor w/ 6 levels \"\",\" Amer-Indian-Eskimo\",..: 6 6 6 4 4 6 4 6 6 6 ...\n",
      " $ sex          : Factor w/ 2 levels \" Female\",\" Male\": 2 2 2 2 1 1 1 2 1 2 ...\n",
      " $ capitalGain  : int  2174 0 0 0 0 0 0 0 14084 5178 ...\n",
      " $ capitalLoss  : int  0 0 0 0 0 0 0 0 0 0 ...\n",
      " $ hourPerWeek  : num  40 13 40 40 40 40 16 45 50 40 ...\n",
      " $ nativeCountry: chr  \" United-States\" \" United-States\" \" United-States\" \" United-States\" ...\n",
      " $ income       : Factor w/ 2 levels \" <=50K\",\" >50K\": 1 1 1 1 1 1 1 2 2 2 ...\n"
     ]
    }
   ],
   "source": [
    "# Después de los cambios, analizamos la nueva estructura del juego de datos\n",
    "str(datosAdult)"
   ]
  },
  {
   "cell_type": "markdown",
   "metadata": {},
   "source": [
    "**Proceso de análisis del juego de datos**"
   ]
  },
  {
   "cell_type": "code",
   "execution_count": 12,
   "metadata": {},
   "outputs": [
    {
     "data": {},
     "metadata": {},
     "output_type": "display_data"
    },
    {
     "data": {
      "image/png": "[encoded data removed]",
      "text/plain": [
       "plot without title"
      ]
     },
     "metadata": {},
     "output_type": "display_data"
    }
   ],
   "source": [
    "# Visualizamos la relación entre las variables \"sex\" y \"race\":\n",
    "ggplot(data=datosAdult[],aes(x=sex,fill=race))+geom_bar()+ylab(\"Frecuencia\")"
   ]
  },
  {
   "cell_type": "code",
   "execution_count": 13,
   "metadata": {},
   "outputs": [
    {
     "data": {},
     "metadata": {},
     "output_type": "display_data"
    },
    {
     "data": {
      "image/png": "[encoded data removed]",
      "text/plain": [
       "plot without title"
      ]
     },
     "metadata": {},
     "output_type": "display_data"
    }
   ],
   "source": [
    "# Visualizamos la relación entre las variables \"sex\" y \"maritalStatus\":\n",
    "ggplot(data=datosAdult[],aes(x=sex,fill=maritalStatus))+geom_bar()+geom_bar(position=\"fill\")+ylab(\"Frecuencia\")"
   ]
  },
  {
   "cell_type": "code",
   "execution_count": 14,
   "metadata": {},
   "outputs": [
    {
     "data": {
      "text/plain": [
       "         \n",
       "             Divorced  Married-AF-spouse  Married-civ  Married-civ-spouse\n",
       "   Female 24.81452249         0.17363852   0.01578532         15.80110497\n",
       "   Male    8.20081073         0.03118179   0.00000000         60.76551294\n",
       "         \n",
       "           Married-spouse-absent  Never-married   Separated     Widowed\n",
       "   Female             1.78374112    43.77269140  5.65114444  7.98737174\n",
       "   Male               1.02120362    27.40879326  1.86311194  0.70938572"
      ]
     },
     "metadata": {},
     "output_type": "display_data"
    }
   ],
   "source": [
    "# Matrices de porcentages de frecuencia. \n",
    "# Podemos ver que la probabilidad de estar divorciado siendo del sexo masculino es de 8.20 %\n",
    "\n",
    "t<-table(datosAdult[]$sex,datosAdult[]$maritalStatus)\n",
    "for (i in 1:dim(t)[1]){\n",
    "    t[i,]<-t[i,]/sum(t[i,])*100\n",
    "}\n",
    "t"
   ]
  },
  {
   "cell_type": "code",
   "execution_count": 15,
   "metadata": {},
   "outputs": [
    {
     "data": {},
     "metadata": {},
     "output_type": "display_data"
    },
    {
     "data": {
      "image/png": "[encoded data removed]",
      "text/plain": [
       "plot without title"
      ]
     },
     "metadata": {},
     "output_type": "display_data"
    }
   ],
   "source": [
    "# Visualizamos la relación entre las variables \"sex\" y \"education\":\n",
    "ggplot(data=datosAdult[],aes(x=sex,fill=education))+geom_bar()+geom_bar(position=\"fill\")+ylab(\"Frecuencia\")"
   ]
  },
  {
   "cell_type": "code",
   "execution_count": 16,
   "metadata": {},
   "outputs": [
    {
     "data": {},
     "metadata": {},
     "output_type": "display_data"
    },
    {
     "data": {
      "image/png": "[encoded data removed]",
      "text/plain": [
       "plot without title"
      ]
     },
     "metadata": {},
     "output_type": "display_data"
    }
   ],
   "source": [
    "# Trabajando con 3 variables en un mismo gráfico de frecuencias. Agregaos la variable \"nativeCountry\"\n",
    "ggplot(data = \n",
    "       datosAdult[],aes(x=sex,fill=education)\n",
    "      )+geom_bar(position=\"fill\")+facet_wrap(~nativeCountry)+ylab(\"Frecuencia\")"
   ]
  },
  {
   "cell_type": "code",
   "execution_count": null,
   "metadata": {},
   "outputs": [],
   "source": []
  }
 ],
 "metadata": {
  "kernelspec": {
   "display_name": "R",
   "language": "R",
   "name": "ir"
  },
  "language_info": {
   "codemirror_mode": "r",
   "file_extension": ".r",
   "mimetype": "text/x-r-source",
   "name": "R",
   "pygments_lexer": "r",
   "version": "3.5.1"
  }
 },
 "nbformat": 4,
 "nbformat_minor": 2
}
